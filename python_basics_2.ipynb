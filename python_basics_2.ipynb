{
 "cells": [
  {
   "cell_type": "markdown",
   "id": "994d7a0b-9cc9-402e-8fe8-dfbfcf7cacc4",
   "metadata": {},
   "source": [
    "list"
   ]
  },
  {
   "cell_type": "code",
   "execution_count": 1,
   "id": "07e4d503-8af8-49b7-846b-85649a528221",
   "metadata": {},
   "outputs": [
    {
     "name": "stdout",
     "output_type": "stream",
     "text": [
      "<class 'list'>\n",
      "[1, 2.3, 'hii', True]\n",
      "[1, 2.3, 'hii', True, 'hello']\n",
      "hello\n",
      "5\n",
      "[1, 2, 3, 1, 2, 3]\n"
     ]
    }
   ],
   "source": [
    "list1=[1,2,3]\n",
    "print(type(list1))\n",
    "list2=[1,2.3,'hii',True]\n",
    "print(list2)\n",
    "list2.append('hello')\n",
    "print(list2)\n",
    "print(list2[4])\n",
    "print(len(list2))\n",
    "list3=[]\n",
    "del list2\n",
    "list=list1+list1\n",
    "print(list)"
   ]
  },
  {
   "cell_type": "markdown",
   "id": "6d766086-052d-48b3-ad25-296eaa9a025e",
   "metadata": {},
   "source": [
    "tuple"
   ]
  },
  {
   "cell_type": "code",
   "execution_count": 2,
   "id": "4525553f-c142-4361-93ae-726ddf1b119e",
   "metadata": {},
   "outputs": [
    {
     "name": "stdout",
     "output_type": "stream",
     "text": [
      "<class 'tuple'>\n",
      "1\n"
     ]
    }
   ],
   "source": [
    "tuple1=(1,2,3)\n",
    "tuple2=(1,2.3,'hii',False)\n",
    "tuple3=tuple(list)\n",
    "print(type(tuple3))\n",
    "print(tuple3[3])\n"
   ]
  },
  {
   "cell_type": "markdown",
   "id": "d5d82ffb-79ef-4b1a-8c85-7cb85a1bba97",
   "metadata": {},
   "source": [
    "SET"
   ]
  },
  {
   "cell_type": "code",
   "execution_count": 3,
   "id": "701b298c-6457-4009-aa44-563f365831ea",
   "metadata": {},
   "outputs": [
    {
     "name": "stdout",
     "output_type": "stream",
     "text": [
      "<class 'set'>\n",
      "<class 'set'>\n",
      "<class 'set'>\n"
     ]
    }
   ],
   "source": [
    "set1={1,2,3}\n",
    "print(type(set1))\n",
    "x=set(tuple2)\n",
    "print(type(x))\n",
    "y=set(list)\n",
    "print(type(y))\n"
   ]
  },
  {
   "cell_type": "markdown",
   "id": "448fa292-21ab-4feb-b828-a60fd98a720d",
   "metadata": {},
   "source": [
    "DICTIONARY"
   ]
  },
  {
   "cell_type": "code",
   "execution_count": 4,
   "id": "84c8f93e-f24d-4159-a096-dccd1117204a",
   "metadata": {},
   "outputs": [
    {
     "name": "stdout",
     "output_type": "stream",
     "text": [
      "{'name': 'anubhuti', 'age': 3, 'city': 'delhi'}\n",
      "<class 'dict'>\n",
      "anubhuti\n",
      "3\n",
      "delhi\n"
     ]
    }
   ],
   "source": [
    "my_dict={'name':'anubhuti','age':3,'city':'delhi'}\n",
    "print(my_dict)\n",
    "print(type(my_dict))\n",
    "print(my_dict['name'])\n",
    "print(my_dict['age'])\n",
    "print(my_dict['city'])"
   ]
  },
  {
   "cell_type": "markdown",
   "id": "1995527f-ccd6-4b07-849f-d8b874f634f0",
   "metadata": {},
   "source": [
    "ARITHMETIC_OPERATOR"
   ]
  },
  {
   "cell_type": "code",
   "execution_count": 5,
   "id": "c29161ae-8e7d-4881-ac81-60b03e7180d4",
   "metadata": {},
   "outputs": [
    {
     "name": "stdout",
     "output_type": "stream",
     "text": [
      "35\n",
      "-11\n",
      "276\n",
      "0.5217391304347826\n",
      "12\n",
      "6624737266949237011120128\n"
     ]
    }
   ],
   "source": [
    "a=12\n",
    "b=23\n",
    "c=a+b\n",
    "print(c)\n",
    "c=a-b\n",
    "print(c)\n",
    "c=a*b\n",
    "print(c)\n",
    "c=a/b\n",
    "print(c)\n",
    "c=a%b\n",
    "print(c)\n",
    "c=a**b\n",
    "print(c)"
   ]
  },
  {
   "cell_type": "markdown",
   "id": "00bb9a36-ec5c-46ca-ac3c-b2981c3e7629",
   "metadata": {},
   "source": [
    "ASSIGNMENT_OPERATOR"
   ]
  },
  {
   "cell_type": "code",
   "execution_count": 6,
   "id": "773a6dfe-89c4-45eb-99d0-52551d4ce777",
   "metadata": {},
   "outputs": [
    {
     "name": "stdout",
     "output_type": "stream",
     "text": [
      "6624737266949237011120128\n",
      "6624737266949237011120130\n",
      "6624737266949237006585594\n",
      "33123686334746185032927970\n",
      "4882\n",
      "0.14256095780405897\n",
      "0.14256095780405897\n"
     ]
    }
   ],
   "source": [
    "print(c)\n",
    "c+=2\n",
    "print(c)\n",
    "c-=4534536\n",
    "print(c)\n",
    "c*=5\n",
    "print(c)\n",
    "c%=6768\n",
    "print(c)\n",
    "c/=34245\n",
    "print(c)\n",
    "c**=1\n",
    "print(c)"
   ]
  },
  {
   "cell_type": "markdown",
   "id": "44de8425-3c27-4c5a-b6d1-50bd8ce056db",
   "metadata": {},
   "source": [
    "COMPARISION_OPERATOR"
   ]
  },
  {
   "cell_type": "code",
   "execution_count": 7,
   "id": "c5c4179d-13a4-48c0-9253-99a676c09ffd",
   "metadata": {},
   "outputs": [
    {
     "name": "stdout",
     "output_type": "stream",
     "text": [
      "False\n",
      "True\n",
      "False\n",
      "True\n",
      "True\n",
      "False\n"
     ]
    }
   ],
   "source": [
    "a=3\n",
    "b=5\n",
    "print(a==b)\n",
    "print(a!=b)\n",
    "print(a>b)\n",
    "print(a<b)\n",
    "print(a<=b)\n",
    "print(a>=b)"
   ]
  },
  {
   "cell_type": "markdown",
   "id": "831c4e27-89c1-44a6-838d-9153939a7df7",
   "metadata": {},
   "source": [
    "LOGICAL_OPERATOR"
   ]
  },
  {
   "cell_type": "code",
   "execution_count": 8,
   "id": "b2613d79-e7bf-4d21-8548-14a04bb190de",
   "metadata": {},
   "outputs": [
    {
     "name": "stdout",
     "output_type": "stream",
     "text": [
      "False\n",
      "True\n",
      "False\n",
      "True\n",
      "False\n"
     ]
    }
   ],
   "source": [
    "print(2>4 and 5>4)\n",
    "print(2>4 or 5>4)\n",
    "print(not(2>4 or 5>4))\n",
    "print(not(0))\n",
    "print(2>4 & 5>4)"
   ]
  },
  {
   "cell_type": "markdown",
   "id": "c5e0cbd5-f26c-4def-affa-be0e2b9bc3c3",
   "metadata": {},
   "source": [
    "INDENTITY_OPERATOR"
   ]
  },
  {
   "cell_type": "code",
   "execution_count": 9,
   "id": "2ae6a099-0a28-46c0-bb8a-a82194b68b7e",
   "metadata": {},
   "outputs": [
    {
     "name": "stdout",
     "output_type": "stream",
     "text": [
      "False\n",
      "True\n"
     ]
    }
   ],
   "source": [
    "print(a is b)\n",
    "print(a is not b)"
   ]
  },
  {
   "cell_type": "markdown",
   "id": "9fbb9a71-bca7-41a6-bab3-da30d9840467",
   "metadata": {},
   "source": [
    "MEMBERSHIP_OPERATOR"
   ]
  },
  {
   "cell_type": "code",
   "execution_count": 10,
   "id": "9212df59-e2aa-48f7-b426-b0ea6475eeb0",
   "metadata": {},
   "outputs": [
    {
     "name": "stdout",
     "output_type": "stream",
     "text": [
      "True\n",
      "False\n"
     ]
    }
   ],
   "source": [
    "c={1,2,3}\n",
    "print(a in c)\n",
    "print(a not in c)"
   ]
  },
  {
   "cell_type": "markdown",
   "id": "d4062f89-4f8d-4ef0-a56c-2e8616e3cb12",
   "metadata": {},
   "source": [
    "IF_STATEMENT"
   ]
  },
  {
   "cell_type": "code",
   "execution_count": 13,
   "id": "5fea0209-96cb-4d8c-ba59-5f9815b57950",
   "metadata": {},
   "outputs": [
    {
     "name": "stdin",
     "output_type": "stream",
     "text": [
      "enter number 23\n",
      "enter number 45\n"
     ]
    },
    {
     "name": "stdout",
     "output_type": "stream",
     "text": [
      "45\n"
     ]
    }
   ],
   "source": [
    "a=int(input(\"enter number\"))\n",
    "b=int(input(\"enter number\"))\n",
    "if(a>b):\n",
    "       print(a)\n",
    "else:\n",
    "       print(b)"
   ]
  },
  {
   "cell_type": "markdown",
   "id": "31a6504c-73cd-4642-b9fb-e1e3b4a98778",
   "metadata": {},
   "source": [
    "IF_ELIF_IF STATEMENT"
   ]
  },
  {
   "cell_type": "code",
   "execution_count": 16,
   "id": "9a9a457f-f840-4b7c-8896-cace9bae36dd",
   "metadata": {},
   "outputs": [
    {
     "name": "stdin",
     "output_type": "stream",
     "text": [
      "enter number 23\n",
      "enter number 45\n",
      "enter number 67\n"
     ]
    },
    {
     "name": "stdout",
     "output_type": "stream",
     "text": [
      "67\n"
     ]
    }
   ],
   "source": [
    "a=int(input(\"enter number\"))\n",
    "b=int(input(\"enter number\"))\n",
    "c=int(input(\"enter number\"))\n",
    "if(a>b and a>c):\n",
    "    print(a)\n",
    "elif(b>a and b>c):\n",
    "    print(b)\n",
    "else:\n",
    "    print(c)"
   ]
  },
  {
   "cell_type": "markdown",
   "id": "ffa325a0-e063-49b9-9770-365d464099d4",
   "metadata": {},
   "source": [
    "NESTED_IF"
   ]
  },
  {
   "cell_type": "code",
   "execution_count": 18,
   "id": "78f90ae4-880b-4a01-a267-a348e27997d3",
   "metadata": {},
   "outputs": [
    {
     "name": "stdin",
     "output_type": "stream",
     "text": [
      "enter number 34\n",
      "enter number 67\n",
      "enter number 11\n"
     ]
    },
    {
     "name": "stdout",
     "output_type": "stream",
     "text": [
      "67\n"
     ]
    }
   ],
   "source": [
    "a=int(input(\"enter number\"))\n",
    "b=int(input(\"enter number\"))\n",
    "c=int(input(\"enter number\"))\n",
    "if(a>b):\n",
    "    if(a>c):\n",
    "        print(a)\n",
    "    else:\n",
    "        print(c)\n",
    "else:\n",
    "    if(b>c):\n",
    "        print(b)\n",
    "    else:\n",
    "        print(c)"
   ]
  },
  {
   "cell_type": "code",
   "execution_count": null,
   "id": "7c891d63-eb22-4f4c-b6ae-72a1e24937a2",
   "metadata": {},
   "outputs": [],
   "source": []
  }
 ],
 "metadata": {
  "kernelspec": {
   "display_name": "Python 3 (ipykernel)",
   "language": "python",
   "name": "python3"
  },
  "language_info": {
   "codemirror_mode": {
    "name": "ipython",
    "version": 3
   },
   "file_extension": ".py",
   "mimetype": "text/x-python",
   "name": "python",
   "nbconvert_exporter": "python",
   "pygments_lexer": "ipython3",
   "version": "3.11.1"
  }
 },
 "nbformat": 4,
 "nbformat_minor": 5
}

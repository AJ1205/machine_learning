{
 "cells": [
  {
   "cell_type": "raw",
   "id": "a4255e93-a1b6-4a07-96ed-39a896317741",
   "metadata": {},
   "source": [
    "NUMPY "
   ]
  },
  {
   "cell_type": "code",
   "execution_count": 1,
   "id": "07abc70b-717d-483f-9dbc-a877f99eb09b",
   "metadata": {},
   "outputs": [],
   "source": [
    "import numpy as np"
   ]
  },
  {
   "cell_type": "code",
   "execution_count": 2,
   "id": "43967122-99d7-43e4-8810-03f5ac7d6177",
   "metadata": {},
   "outputs": [
    {
     "name": "stdout",
     "output_type": "stream",
     "text": [
      "(3,)\n"
     ]
    }
   ],
   "source": [
    "a=np.array([1,2,3])\n",
    "print(a.shape)"
   ]
  },
  {
   "cell_type": "code",
   "execution_count": 3,
   "id": "baa62639-b942-4083-8931-758adf13fd8a",
   "metadata": {},
   "outputs": [
    {
     "name": "stdout",
     "output_type": "stream",
     "text": [
      "(2, 3)\n",
      "[[1 2 3]\n",
      " [5 6 7]]\n"
     ]
    }
   ],
   "source": [
    "a=np.array(([1,2,3],[5,6,7]))\n",
    "print(a.shape)\n",
    "print(a)"
   ]
  },
  {
   "cell_type": "code",
   "execution_count": 4,
   "id": "325d083d-f2e7-4bcb-848c-957707464b14",
   "metadata": {},
   "outputs": [
    {
     "name": "stdout",
     "output_type": "stream",
     "text": [
      "[[1. 2. 3.]\n",
      " [5. 6. 7.]]\n"
     ]
    }
   ],
   "source": [
    "a=np.array(([1,2,3],[5,6,7]),dtype=float)\n",
    "print(a)"
   ]
  },
  {
   "cell_type": "code",
   "execution_count": 5,
   "id": "6bbd555e-b038-4a0e-a6e4-4c9ec9e9714c",
   "metadata": {},
   "outputs": [
    {
     "name": "stdout",
     "output_type": "stream",
     "text": [
      "[[0. 0. 0. 0.]\n",
      " [0. 0. 0. 0.]]\n"
     ]
    }
   ],
   "source": [
    "a=np.zeros((2,4))\n",
    "print(a)"
   ]
  },
  {
   "cell_type": "code",
   "execution_count": 6,
   "id": "5896f5ef-ddca-474a-9161-fa7981a1f21e",
   "metadata": {},
   "outputs": [
    {
     "name": "stdout",
     "output_type": "stream",
     "text": [
      "[[1. 1. 1. 1.]\n",
      " [1. 1. 1. 1.]\n",
      " [1. 1. 1. 1.]\n",
      " [1. 1. 1. 1.]]\n"
     ]
    }
   ],
   "source": [
    "a=np.ones((4,4))\n",
    "print(a)"
   ]
  },
  {
   "cell_type": "code",
   "execution_count": 7,
   "id": "e71973d4-a957-45cd-a891-18da92ab88d9",
   "metadata": {},
   "outputs": [
    {
     "name": "stdout",
     "output_type": "stream",
     "text": [
      "[[5 5 5 5]\n",
      " [5 5 5 5]\n",
      " [5 5 5 5]]\n"
     ]
    }
   ],
   "source": [
    "a=np.full((3,4),5)\n",
    "print(a)"
   ]
  },
  {
   "cell_type": "code",
   "execution_count": 8,
   "id": "130b3553-9f94-435a-ba91-0fbc19f8663b",
   "metadata": {},
   "outputs": [
    {
     "name": "stdout",
     "output_type": "stream",
     "text": [
      "[[1. 0. 0.]\n",
      " [0. 1. 0.]\n",
      " [0. 0. 1.]]\n"
     ]
    }
   ],
   "source": [
    "i=np.eye(3,3)\n",
    "print(i)"
   ]
  },
  {
   "cell_type": "code",
   "execution_count": 9,
   "id": "e407ac6e-6fa0-4b9a-84a9-7c7efb6fc665",
   "metadata": {},
   "outputs": [
    {
     "name": "stdout",
     "output_type": "stream",
     "text": [
      "[[0.44922831 0.10993372]\n",
      " [0.32662626 0.77809972]\n",
      " [0.67801408 0.34694457]]\n"
     ]
    }
   ],
   "source": [
    "a=np.random.random((3,2))\n",
    "print(a)"
   ]
  },
  {
   "cell_type": "code",
   "execution_count": 10,
   "id": "b4d78319-0970-4d2f-9203-aab5fad7b328",
   "metadata": {},
   "outputs": [
    {
     "name": "stdout",
     "output_type": "stream",
     "text": [
      "[[12 10]\n",
      " [13 11]\n",
      " [12 11]]\n"
     ]
    }
   ],
   "source": [
    "a=np.random.randint(10,14,(3,2))\n",
    "print(a)"
   ]
  },
  {
   "cell_type": "code",
   "execution_count": 11,
   "id": "f1af8432-be8e-4b4b-b226-b76c2a3fddb5",
   "metadata": {},
   "outputs": [
    {
     "name": "stdout",
     "output_type": "stream",
     "text": [
      "[10. 15. 20. 25. 30.]\n"
     ]
    }
   ],
   "source": [
    "a=np.linspace(10,30,5)\n",
    "print(a)"
   ]
  },
  {
   "cell_type": "code",
   "execution_count": 12,
   "id": "788a4446-2cc9-497b-b5a8-4e125dd44aa7",
   "metadata": {},
   "outputs": [
    {
     "name": "stdout",
     "output_type": "stream",
     "text": [
      "[12 17 22 27]\n"
     ]
    }
   ],
   "source": [
    "a=np.arange(12,30,5)\n",
    "print(a)"
   ]
  },
  {
   "cell_type": "code",
   "execution_count": 13,
   "id": "4f4b05d1-2db2-461b-948f-16d6e972ceee",
   "metadata": {},
   "outputs": [
    {
     "name": "stdout",
     "output_type": "stream",
     "text": [
      "<class 'numpy.ndarray'>\n",
      "<class 'list'>\n"
     ]
    }
   ],
   "source": [
    "my_list=[1,2,3]\n",
    "a=np.asarray(my_list)\n",
    "print(type(a))\n",
    "print(type(my_list))"
   ]
  },
  {
   "cell_type": "code",
   "execution_count": 14,
   "id": "55065793-45a0-462b-ab81-5d426be89b00",
   "metadata": {},
   "outputs": [
    {
     "name": "stdout",
     "output_type": "stream",
     "text": [
      "(3,)\n",
      "1\n",
      "3\n",
      "int32\n"
     ]
    }
   ],
   "source": [
    "print(a.shape)\n",
    "print(a.ndim)\n",
    "print(a.size)\n",
    "print(a.dtype)"
   ]
  },
  {
   "cell_type": "code",
   "execution_count": 15,
   "id": "ac2ebcbd-4dcc-4c24-94c8-74b0c27b225f",
   "metadata": {},
   "outputs": [
    {
     "name": "stdout",
     "output_type": "stream",
     "text": [
      "[[24 22]\n",
      " [22 22]\n",
      " [24 26]]\n",
      "[[24 22]\n",
      " [22 22]\n",
      " [24 26]]\n",
      "[[2 0]\n",
      " [2 0]\n",
      " [0 0]]\n",
      "[[2 0]\n",
      " [2 0]\n",
      " [0 0]]\n",
      "[[143 121]\n",
      " [120 121]\n",
      " [144 169]]\n",
      "[[13 12 12]\n",
      " [11 11 13]]\n",
      "[[13 11 12]\n",
      " [11 12 13]]\n"
     ]
    }
   ],
   "source": [
    "a=np.random.randint(10,14,(3,2))\n",
    "b=np.random.randint(10,14,(3,2))\n",
    "print(a+b)\n",
    "print(np.add(a,b))\n",
    "print(a-b)\n",
    "print(np.subtract(a,b))\n",
    "print(a*b)\n",
    "print(np.transpose(a))\n",
    "print(a.reshape(2,3))"
   ]
  },
  {
   "cell_type": "code",
   "execution_count": null,
   "id": "376a29a2-6fdc-4dd4-b84d-596a670a0b1f",
   "metadata": {},
   "outputs": [],
   "source": []
  }
 ],
 "metadata": {
  "kernelspec": {
   "display_name": "Python 3 (ipykernel)",
   "language": "python",
   "name": "python3"
  },
  "language_info": {
   "codemirror_mode": {
    "name": "ipython",
    "version": 3
   },
   "file_extension": ".py",
   "mimetype": "text/x-python",
   "name": "python",
   "nbconvert_exporter": "python",
   "pygments_lexer": "ipython3",
   "version": "3.11.1"
  }
 },
 "nbformat": 4,
 "nbformat_minor": 5
}

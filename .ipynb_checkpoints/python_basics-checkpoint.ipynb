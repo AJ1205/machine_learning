{
 "cells": [
  {
   "cell_type": "markdown",
   "id": "85e12ea7-8ece-4659-98a1-13ca252355f0",
   "metadata": {},
   "source": [
    "PRINT FUNCTION"
   ]
  },
  {
   "cell_type": "code",
   "execution_count": 2,
   "id": "5f16720a-4097-42c5-8f1f-eea69cfe7029",
   "metadata": {},
   "outputs": [
    {
     "name": "stdout",
     "output_type": "stream",
     "text": [
      "HELLO WORLD\n"
     ]
    }
   ],
   "source": [
    "print(\"HELLO\"+\" WORLD\")"
   ]
  },
  {
   "cell_type": "code",
   "execution_count": 1,
   "id": "8579cf6f-2fc6-490a-82d6-647a1d958647",
   "metadata": {},
   "outputs": [
    {
     "name": "stdout",
     "output_type": "stream",
     "text": [
      "Hello World\n"
     ]
    }
   ],
   "source": [
    "print(\"Hello World\")"
   ]
  },
  {
   "cell_type": "code",
   "execution_count": 3,
   "id": "5c2f068d-6b43-4dde-80b9-d10469556176",
   "metadata": {},
   "outputs": [
    {
     "name": "stdout",
     "output_type": "stream",
     "text": [
      "8\n"
     ]
    }
   ],
   "source": [
    "print(8)"
   ]
  },
  {
   "cell_type": "code",
   "execution_count": 4,
   "id": "5abbd440-c407-472d-8775-dbe62f1da758",
   "metadata": {},
   "outputs": [
    {
     "name": "stdout",
     "output_type": "stream",
     "text": [
      "30\n"
     ]
    }
   ],
   "source": [
    "print(23+7)"
   ]
  },
  {
   "cell_type": "markdown",
   "id": "fa4ba6c5-3b3e-4abc-acce-ecfc600acc7b",
   "metadata": {},
   "source": [
    "VARIABLES"
   ]
  },
  {
   "cell_type": "code",
   "execution_count": 5,
   "id": "5ba23d4e-1ebc-4889-8e3d-349f5a42141f",
   "metadata": {},
   "outputs": [
    {
     "data": {
      "text/plain": [
       "int"
      ]
     },
     "execution_count": 5,
     "metadata": {},
     "output_type": "execute_result"
    }
   ],
   "source": [
    "type(9)"
   ]
  },
  {
   "cell_type": "code",
   "execution_count": 6,
   "id": "9037f5cf-7492-42f3-9086-b7d361108c77",
   "metadata": {},
   "outputs": [
    {
     "data": {
      "text/plain": [
       "float"
      ]
     },
     "execution_count": 6,
     "metadata": {},
     "output_type": "execute_result"
    }
   ],
   "source": [
    "type(112.78)"
   ]
  },
  {
   "cell_type": "code",
   "execution_count": 7,
   "id": "dac78901-c397-46da-b859-cc9d644345c1",
   "metadata": {},
   "outputs": [
    {
     "data": {
      "text/plain": [
       "str"
      ]
     },
     "execution_count": 7,
     "metadata": {},
     "output_type": "execute_result"
    }
   ],
   "source": [
    "type(\"juyal\")"
   ]
  },
  {
   "cell_type": "code",
   "execution_count": 8,
   "id": "844ab743-7318-43bc-b825-6834a1de41f0",
   "metadata": {},
   "outputs": [
    {
     "name": "stdout",
     "output_type": "stream",
     "text": [
      "5\n"
     ]
    }
   ],
   "source": [
    "var=5\n",
    "print(var)"
   ]
  },
  {
   "cell_type": "code",
   "execution_count": 9,
   "id": "d0098e5b-c245-4eba-a65c-24cdaed0be91",
   "metadata": {},
   "outputs": [
    {
     "name": "stdout",
     "output_type": "stream",
     "text": [
      "7\n",
      "8\n",
      "9\n"
     ]
    }
   ],
   "source": [
    "a,b,c=7,8,9\n",
    "print(a)\n",
    "print(b)\n",
    "print(c)"
   ]
  },
  {
   "cell_type": "code",
   "execution_count": 11,
   "id": "7b0f3b14-a5d3-4772-93d8-85346f702162",
   "metadata": {},
   "outputs": [
    {
     "name": "stdin",
     "output_type": "stream",
     "text": [
      "enter number 23\n",
      "enter number 4\n"
     ]
    },
    {
     "name": "stdout",
     "output_type": "stream",
     "text": [
      "27\n"
     ]
    }
   ],
   "source": [
    "a=int(input(\"enter number\"))\n",
    "b=int(input(\"enter number\"))\n",
    "c=a+b\n",
    "print(c)"
   ]
  },
  {
   "cell_type": "markdown",
   "id": "d615e557-0fa2-403c-8aad-22d4351a78a1",
   "metadata": {},
   "source": [
    "types of data types :-\n",
    "integer 5,6..\n",
    "float  67.56..\n",
    "string \"HII\" 'HII'\n",
    "boolean True False\n",
    "complex 23+3i"
   ]
  },
  {
   "cell_type": "code",
   "execution_count": null,
   "id": "bb9bcb91-95c9-4e5f-83c5-66c78f3efa4d",
   "metadata": {},
   "outputs": [],
   "source": []
  }
 ],
 "metadata": {
  "kernelspec": {
   "display_name": "Python 3 (ipykernel)",
   "language": "python",
   "name": "python3"
  },
  "language_info": {
   "codemirror_mode": {
    "name": "ipython",
    "version": 3
   },
   "file_extension": ".py",
   "mimetype": "text/x-python",
   "name": "python",
   "nbconvert_exporter": "python",
   "pygments_lexer": "ipython3",
   "version": "3.11.1"
  }
 },
 "nbformat": 4,
 "nbformat_minor": 5
}
